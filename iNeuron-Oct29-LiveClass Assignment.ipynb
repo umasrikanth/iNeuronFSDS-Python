{
 "cells": [
  {
   "cell_type": "code",
   "execution_count": null,
   "id": "a3600aa6",
   "metadata": {},
   "outputs": [],
   "source": [
    "1. write a function which will try to find out len of a string without using an inbuilt len function \n",
    "2. write a function which  will be able to print an index of list element without using an index function\n",
    "3. write a function which will be able to print an ip address of your system\n",
    "4. write a function which will shutdown your system\n",
    "5. write a function which will take input as a list with any kind of numeric value and give an out as a multiplication of \n",
    "all the numeric data l = [3.5, 6.56, 4,5,\"sudh\" , \"ineuron\" , 'fsda bootcamp 2.0']\n",
    "6. write a function which will be able to read all the mails \n",
    "7 . write a function which will be able to send a mail to anyone \n",
    "8. write a function which will be able to read a doc/word file from your system \n",
    "\n",
    "you are suppose to complete this by oct 30th before your \n",
    "live class and you have to send a solution at mail id - query@ineuron.ai\n",
    "submit your git link to mail "
   ]
  },
  {
   "cell_type": "code",
   "execution_count": 4,
   "id": "e8c47126",
   "metadata": {},
   "outputs": [
    {
     "name": "stdout",
     "output_type": "stream",
     "text": [
      "Enter String Srikanth\n",
      "Length of Srikanth is 8\n"
     ]
    }
   ],
   "source": [
    "#1.write a function which will try to find out len of a string without using an inbuilt len function \n",
    "\n",
    "def strlen(a):\n",
    "    counter=0\n",
    "    for i in a:\n",
    "        counter = counter + 1\n",
    "    return counter\n",
    "\n",
    "instr=input(\"Enter String \")\n",
    "print(f\"Length of {instr} is {strlen(instr)}\")"
   ]
  },
  {
   "cell_type": "code",
   "execution_count": 8,
   "id": "28d66fb1",
   "metadata": {},
   "outputs": [
    {
     "name": "stdout",
     "output_type": "stream",
     "text": [
      "index 0 - 1\n",
      "index 1 - 22\n",
      "index 2 - 3\n",
      "index 3 - 44\n",
      "index 4 - 6\n",
      "index 5 - 7\n",
      "index 6 - 8\n",
      "index 7 - 99\n",
      "index 8 - 60\n"
     ]
    }
   ],
   "source": [
    "#2. write a function which  will be able to print an index of list element without using an index function\n",
    "\n",
    "def listindex(l):\n",
    "    for i in range(0,len(l)):\n",
    "        print(f\"index {i} - {l[i]}\")\n",
    "        \n",
    "listindex([1,22,3,44,6,7,8,99,60])"
   ]
  },
  {
   "cell_type": "code",
   "execution_count": 17,
   "id": "00e7dccc",
   "metadata": {},
   "outputs": [
    {
     "name": "stdout",
     "output_type": "stream",
     "text": [
      "Your Computer Name is:Vihanka\n",
      "Your Computer IP Address is:192.168.29.63\n",
      "Enter Computer Name Vihanka\n",
      "Your Computer IP Address is:192.168.29.63\n"
     ]
    }
   ],
   "source": [
    "#3. write a function which will be able to print an ip address of your system\n",
    "\n",
    "import socket\n",
    "\n",
    "def getIp():\n",
    "    hostname = socket.gethostname()\n",
    "    IPAddr = socket.gethostbyname(hostname) \n",
    "    print(\"Your Computer Name is:\" + hostname)\n",
    "    print(\"Your Computer IP Address is:\" + IPAddr)\n",
    "\n",
    "def getIp1(hostname):    \n",
    "    IPAddr = socket.gethostbyname(hostname)    \n",
    "    print(\"Your Computer IP Address is:\" + IPAddr)\n",
    "    \n",
    "getIp()\n",
    "\n",
    "hostname=input(\"Enter Computer Name \")\n",
    "getIp1(hostname)"
   ]
  },
  {
   "cell_type": "code",
   "execution_count": null,
   "id": "8984c2c4",
   "metadata": {},
   "outputs": [],
   "source": [
    "#4. write a function which will shutdown your system\n",
    "\n",
    "import os\n",
    "\n",
    "def shutdown():\n",
    "    os.system(\"shutdown /s /t 1\")\n",
    "\n",
    "def restart():\n",
    "    os.system(\"shutdown /r /t 1\")\n",
    "\n",
    "def logout():\n",
    "    os.system(\"shutdown -l\")\n",
    "\n",
    "command = input(\"\"\"Press\n",
    "1-LOGOUT\n",
    "2-RESTART\n",
    "3-SHUTDOWN\n",
    "\"\"\")\n",
    "\n",
    "if command == '1' or command == 'LOGOUT':\n",
    "    logout()\n",
    "elif command == '2' or command == 'RESTART':\n",
    "    restart()\n",
    "elif command == '3' or command == 'SHUTDOWN':\n",
    "    shutdown()\n",
    "else:\n",
    "    print(\"Enter Valid Command\")"
   ]
  },
  {
   "cell_type": "code",
   "execution_count": 29,
   "id": "a9b4339c",
   "metadata": {},
   "outputs": [
    {
     "name": "stdout",
     "output_type": "stream",
     "text": [
      "Numerical elements multiplication in List is 459.19999999999993\n"
     ]
    }
   ],
   "source": [
    "#5. write a function which will take input as a list with any kind of numeric value and give an out as a multiplication of \n",
    "# all the numeric data l = [3.5, 6.56, 4,5,\"sudh\" , \"ineuron\" , 'fsda bootcamp 2.0']\n",
    "\n",
    "def mullist(l):\n",
    "    temp=1\n",
    "    for i in l:        \n",
    "        if type(i)==int or type(i)==float:\n",
    "            temp = temp * i            \n",
    "    return temp\n",
    "\n",
    "l = [3.5, 6.56, 4,5,\"sudh\" , \"ineuron\" , 'fsda bootcamp 2.0']\n",
    "result= mullist(l)\n",
    "\n",
    "print(f\"Numerical elements multiplication in List is {result}\")"
   ]
  },
  {
   "cell_type": "code",
   "execution_count": null,
   "id": "a7d9e313",
   "metadata": {},
   "outputs": [],
   "source": [
    "#6. write a function which will be able to read all the mails "
   ]
  },
  {
   "cell_type": "code",
   "execution_count": null,
   "id": "89560dc6",
   "metadata": {},
   "outputs": [],
   "source": [
    "#7. write a function which will be able to send a mail to anyone"
   ]
  },
  {
   "cell_type": "code",
   "execution_count": 2,
   "id": "1e9b2d5d",
   "metadata": {},
   "outputs": [
    {
     "name": "stdout",
     "output_type": "stream",
     "text": [
      "Enter Filename/path C:\\Users\\umasr\\OneDrive\\Desktop\\UmaSrikanth_TIBCO_Resume.docx\n"
     ]
    }
   ],
   "source": [
    "#8. write a function which will be able to read a doc/word file from your system\n",
    "\n",
    "import os\n",
    "#os.system(r\"start C:\\Users\\umasr\\OneDrive\\Desktop\\UmaSrikanth_TIBCO_Resume.docx\")\n",
    "\n",
    "def openword(file):\n",
    "    os.system(f\"start {file}\")\n",
    "\n",
    "filename= input(\"Enter Filename/path \")\n",
    "\n",
    "openword(filename)\n",
    "#print(filename)"
   ]
  },
  {
   "cell_type": "code",
   "execution_count": null,
   "id": "5860779f",
   "metadata": {},
   "outputs": [],
   "source": []
  }
 ],
 "metadata": {
  "kernelspec": {
   "display_name": "Python 3 (ipykernel)",
   "language": "python",
   "name": "python3"
  },
  "language_info": {
   "codemirror_mode": {
    "name": "ipython",
    "version": 3
   },
   "file_extension": ".py",
   "mimetype": "text/x-python",
   "name": "python",
   "nbconvert_exporter": "python",
   "pygments_lexer": "ipython3",
   "version": "3.9.12"
  }
 },
 "nbformat": 4,
 "nbformat_minor": 5
}
