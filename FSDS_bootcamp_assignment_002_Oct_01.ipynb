{
  "cells": [
    {
      "cell_type": "markdown",
      "source": [
        "# ASSIGNMENTS - Compulsory\n",
        "## Send it before 0000 hrs IST or 12 AM Wednesday\n",
        "\n",
        "## NOTE: Evaluation will be done before next class.\n",
        "\n",
        "## HOW TO SUBMIT: -\n",
        "Download this notebook, Solve it and upload in the google form given in the mail."
      ],
      "metadata": {
        "id": "cyOfbWCdOjEr"
      }
    },
    {
      "cell_type": "markdown",
      "source": [
        "\n",
        "1. What is indentation error? Why indentation is important? Give one simple example?\n",
        "\n",
        "2. Correct the following code and write the comment where you made the correction?\n",
        "\n",
        "  ```python\n",
        "  class_started = bool(input(\"Hey friend, is class started?: [0-False/1-True]\"))\n",
        "\n",
        "  if class_started:\n",
        "      print(\"Since class started...\")\n",
        "      print(\"Lets concentrate\")\n",
        "  else:\n",
        "      print(\"Since class is not started...\")\n",
        "      print(\"let's revise\")    \n",
        "  ```\n",
        "\n",
        "  **HINT:** Refer your data type conversion class\n",
        "\n",
        "3. Use if else condition to verify that dataype of `input()` method in python is always string.\n",
        "\n",
        "4. Take 3 variables and assign integer values to them. Find the largest variable, by only using the if and else conditions.\n",
        "\n",
        "\n",
        "5. What would be the solution?\n",
        "    1. True\n",
        "    2. False\n",
        "\n",
        "    ```python\n",
        "    a = 6\n",
        "    b = 10\n",
        "    print( not ( not a == 10 or not b == 10) )\n",
        "    ```\n",
        "    \n",
        "6. Find the answer as well as find out the reason behind the result? -\n",
        "    - case 1:\n",
        "        ```python\n",
        "        A = 5.0\n",
        "        B = 10/2\n",
        "        print(A is B)\n",
        "        ```\n",
        "    - case 2:\n",
        "        ```python\n",
        "        A = 5.0\n",
        "        B = int(10/2)\n",
        "        print(A is B)\n",
        "        ```\n",
        "    - case 3:\n",
        "        ```python\n",
        "        A = 5.0\n",
        "        B = float(10/2)\n",
        "        print(A is B)\n",
        "        ```"
      ],
      "metadata": {
        "id": "GT4IytkJMNa-"
      }
    },
    {
      "cell_type": "markdown",
      "source": [
        "### Try to understand the following examples and answer the question based on it - \n",
        "    \n",
        "**Arithmatic Operators**\n",
        "\n",
        "|Operation|Meaning|\n",
        "|:-:|:-:|\n",
        "| **+** |addition|\n",
        "| **-** |subtraction|\n",
        "| **\\*** |multiplication|\n",
        "| **/** |true division|\n",
        "| **//** |integer division|\n",
        "| **%** |the modulo operator|\n",
        "\n",
        "\n",
        "Here `+`, `-`, `*`, `/` are regular arithmatic operators. Lets look at the `//` and `%` operators\n",
        "\n",
        "Usecase or examples - \n",
        "    \n",
        "```python\n",
        "var_a = 5\n",
        "var_b = 25\n",
        "integer_division = var_b // var_a\n",
        "print(f\"integer division: {var_b}/{var_a}={integer_division}\")\n",
        "```\n",
        "\n",
        "OUTPUT: integer division: 25/5=5\n",
        "\n",
        "```python\n",
        "var_a = 3\n",
        "var_b = 25\n",
        "integer_division = var_b // var_a\n",
        "print(f\"integer division: {var_b}/{var_a}={integer_division}\")\n",
        "```\n",
        "\n",
        "OUTPUT: integer division: 25/3=8\n",
        "\n",
        "```python\n",
        "var_a = 5\n",
        "var_b = 25\n",
        "remainder = var_b % var_a\n",
        "print(f\"remainder: {var_b}/{var_a} is {remainder}\")\n",
        "```\n",
        "\n",
        "OUTPUT: remainder: 25/5 is 0\n",
        "\n",
        "```python\n",
        "var_a = 3\n",
        "var_b = 25\n",
        "remainder = var_b % var_a\n",
        "print(f\"remainder: {var_b}/{var_a} is {remainder}\")\n",
        "```\n",
        "\n",
        "OUTPUT: remainder: 25/3 is 1\n",
        "\n"
      ],
      "metadata": {
        "id": "a_4kbBVWNY-4"
      }
    },
    {
      "cell_type": "markdown",
      "source": [
        "### Answer below questions on the above theory - \n",
        "\n",
        "7. Write a program that asks the user to enter a number. You should print out a message to the user, either “That number is divisible by either 3 or 5”, or “That number is not divisible by either 3 or 5”. Be sure to consider the data type of the input you are taking in from the user. Use a single if/else block to solve this problem.\n",
        "\n",
        "8. Take user input for length and width. Then calculate the area of rectangle. Also print as per length and width whether its a square of rectangle.\n",
        "\n",
        "9. Take two variable radius_1 and radius_2 and calculate the area of circle_1 and circle_2. Also print which circle has large area. If area is equal then print area is equal.\n",
        "\n",
        "10. Check whether a year is leap year or not. Use nested if...else to solve this problem. A leap year is exactly divisible by 4 except for century years (years ending with 00). The century year is a leap year only if it is perfectly divisible by 400."
      ],
      "metadata": {
        "id": "v288WPlMNxmM"
      }
    },
    {
      "cell_type": "code",
      "source": [
        "# 1. What is indentation error? Why indentation is important? Give one simple example?\n",
        "\n",
        "\"\"\" \n",
        "Indentation refers to implementing proper spaces and tabs at starting any statement, method and block of code in the python programming language.\n",
        "If we are not maintaining the proper indentation then interpreter will raise the indentation error\n",
        "\"\"\"\n",
        "\n",
        "#example\n",
        "\n",
        "i = 2\n",
        "\n",
        "if i>0:\n",
        "print(\"Positive\")\n",
        "elif i<0:\n",
        "print(\"Negative\")\n",
        "else:\n",
        "print(\"Zero\")"
      ],
      "metadata": {
        "colab": {
          "base_uri": "https://localhost:8080/",
          "height": 130
        },
        "id": "R_sAEWsUz4kU",
        "outputId": "18750319-792e-447d-9389-b498cb5c990c"
      },
      "execution_count": 3,
      "outputs": [
        {
          "output_type": "error",
          "ename": "IndentationError",
          "evalue": "ignored",
          "traceback": [
            "\u001b[0;36m  File \u001b[0;32m\"<ipython-input-3-81eba92d553d>\"\u001b[0;36m, line \u001b[0;32m13\u001b[0m\n\u001b[0;31m    print(\"Positive\")\u001b[0m\n\u001b[0m        ^\u001b[0m\n\u001b[0;31mIndentationError\u001b[0m\u001b[0;31m:\u001b[0m expected an indented block\n"
          ]
        }
      ]
    },
    {
      "cell_type": "code",
      "source": [
        "# 2. Correct the following code and write the comment where you made the correction?\n",
        "\n",
        "class_started = input(\"Hey friend, is class started?: [0-False/1-True]\")  # Changed the conversion from bool to default string\n",
        "\n",
        "if class_started==\"1\" or class_started.upper()==\"TRUE\" :  # added condition check\n",
        "   print(\"Since class started...\")\n",
        "   print(\"Lets concentrate\")\n",
        "else:\n",
        "   print(\"Since class is not started...\")\n",
        "   print(\"let's revise\")    "
      ],
      "metadata": {
        "colab": {
          "base_uri": "https://localhost:8080/"
        },
        "id": "E20QjkJZ2Znx",
        "outputId": "356a138b-5a70-4ab2-d39c-5459605c4f31"
      },
      "execution_count": 4,
      "outputs": [
        {
          "output_type": "stream",
          "name": "stdout",
          "text": [
            "Hey friend, is class started?: [0-False/1-True]false\n",
            "Since class is not started...\n",
            "let's revise\n"
          ]
        }
      ]
    },
    {
      "cell_type": "code",
      "source": [
        "# 3. Use if else condition to verify that dataype of input() method in python is always string.\n",
        "\n",
        "a = input(\"Enter Number : \")\n",
        "b = input(\"Enter Number : \")\n",
        "\n",
        "print(f\"\"\"\n",
        "      a = {a}\n",
        "      b = {b}\n",
        "       \"\"\")\n",
        "print(f\"{a} + {b} = \",a+b,f\" because a is of datatype {type(a)} and b is of datatype {type(b)}\")\n",
        "\n",
        "print(\"\"\"\n",
        "After Converting from String to Integer\n",
        "----------------------------------------      \n",
        "      \"\"\")\n",
        "a = int(a)\n",
        "b = int(b)\n",
        "print(f\"{a} + {b} = \",a+b,f\" because a is of datatype {type(a)} and b is of datatype {type(b)}\")"
      ],
      "metadata": {
        "colab": {
          "base_uri": "https://localhost:8080/"
        },
        "id": "Bzw-j57m43GI",
        "outputId": "8cb48744-7e4d-457d-82f3-00538fa65232"
      },
      "execution_count": 28,
      "outputs": [
        {
          "output_type": "stream",
          "name": "stdout",
          "text": [
            "Enter Number : 10\n",
            "Enter Number : 10\n",
            "\n",
            "      a = 10\n",
            "      b = 10\n",
            "       \n",
            "10 + 10 =  1010  because a is of datatype <class 'str'> and b is of datatype <class 'str'>\n",
            "\n",
            "After Converting from String to Integer\n",
            "----------------------------------------      \n",
            "      \n",
            "10 + 10 =  20  because a is of datatype <class 'int'> and b is of datatype <class 'int'>\n"
          ]
        }
      ]
    },
    {
      "cell_type": "code",
      "source": [
        "# 4. Take 3 variables and assign integer values to them. Find the largest variable, by only using the if and else conditions.\n",
        "\n",
        "a = 100\n",
        "b = 20\n",
        "c = 50\n",
        "\n",
        "if a > b and a > c:\n",
        "  print(f\"a is greater\")\n",
        "else:\n",
        "  if b > a and b >c :\n",
        "    print(\"b is greater\")\n",
        "  else:\n",
        "    print(\"c is greater\")"
      ],
      "metadata": {
        "colab": {
          "base_uri": "https://localhost:8080/"
        },
        "id": "Bv1gkFPh5NeL",
        "outputId": "7e00ed13-751d-4a21-cda6-d3a4df712da9"
      },
      "execution_count": 7,
      "outputs": [
        {
          "output_type": "stream",
          "name": "stdout",
          "text": [
            "a is greater\n"
          ]
        }
      ]
    },
    {
      "cell_type": "code",
      "source": [
        "\"\"\"\n",
        "5. What would be the solution?\n",
        "Ans :- False\n",
        "\n",
        "a = 6\n",
        "b = 10\n",
        "print( not ( not a == 10 or not b == 10) )\n",
        "\"\"\""
      ],
      "metadata": {
        "colab": {
          "base_uri": "https://localhost:8080/"
        },
        "id": "CNdKTxKp7rFb",
        "outputId": "95288ffc-e8ec-4d71-b5f6-a26c90dc5481"
      },
      "execution_count": 8,
      "outputs": [
        {
          "output_type": "stream",
          "name": "stdout",
          "text": [
            "False\n"
          ]
        }
      ]
    },
    {
      "cell_type": "code",
      "source": [
        "# 6. Find the answer as well as find out the reason behind the result? -\n",
        "\n",
        "\"\"\"\n",
        "case 1:\n",
        "  A = 5.0\n",
        "  B = 10/2\n",
        "  print(A is B)\n",
        "case 2:\n",
        "  A = 5.0\n",
        "  B = int(10/2)\n",
        "  print(A is B)\n",
        "case 3:\n",
        "  A = 5.0\n",
        "  B = float(10/2)\n",
        "  print(A is B)\n",
        "\"\"\"\n",
        "\n",
        "A = 5.0\n",
        "B = 10/2\n",
        "print(f\"A = {A} and B = {B}\")\n",
        "print(f\"A == B is {A is B}\")\n",
        "print(id(A))\n",
        "print(id(B))  # addresses are different\n",
        "\n"
      ],
      "metadata": {
        "colab": {
          "base_uri": "https://localhost:8080/"
        },
        "id": "CVlLpy3e8J8F",
        "outputId": "404f17ca-16cc-48ac-ed90-6bf61b7b7008"
      },
      "execution_count": 37,
      "outputs": [
        {
          "output_type": "stream",
          "name": "stdout",
          "text": [
            "A = 5.0 and B = 5.0\n",
            "A == B is False\n",
            "139868998751152\n",
            "139868998975408\n"
          ]
        }
      ]
    },
    {
      "cell_type": "code",
      "source": [
        "  A = 5.0\n",
        "  B = int(10/2)\n",
        "  print(A is B)\n",
        "\n",
        "  print(A, id(A))\n",
        "print(B, id(B))  #addresses are different"
      ],
      "metadata": {
        "colab": {
          "base_uri": "https://localhost:8080/"
        },
        "id": "OmNlzSVppR5Q",
        "outputId": "58310489-22ff-4fc5-9693-023a8c4c6244"
      },
      "execution_count": 41,
      "outputs": [
        {
          "output_type": "stream",
          "name": "stdout",
          "text": [
            "False\n",
            "5.0 139868999076752\n",
            "5 11122720\n"
          ]
        }
      ]
    },
    {
      "cell_type": "code",
      "source": [
        "A = 5.0\n",
        "B = float(10/2)\n",
        "print(A is B)\n",
        "\n",
        "print(A, id(A))\n",
        "print(B, id(B)) # addresses are different"
      ],
      "metadata": {
        "colab": {
          "base_uri": "https://localhost:8080/"
        },
        "id": "MCMP70ytpaY4",
        "outputId": "eb1ecd1c-7715-4076-9d28-121394825818"
      },
      "execution_count": 40,
      "outputs": [
        {
          "output_type": "stream",
          "name": "stdout",
          "text": [
            "False\n",
            "5.0 139868999074736\n",
            "5.0 139868998973680\n"
          ]
        }
      ]
    },
    {
      "cell_type": "code",
      "source": [
        "A=B=5\n",
        "\n",
        "print(A is B)\n",
        "print(A, id(A))\n",
        "print(B, id(B))"
      ],
      "metadata": {
        "colab": {
          "base_uri": "https://localhost:8080/"
        },
        "id": "MhosaBMSrCxI",
        "outputId": "ff3e0948-c312-4fe4-964e-629823a6f050"
      },
      "execution_count": 42,
      "outputs": [
        {
          "output_type": "stream",
          "name": "stdout",
          "text": [
            "True\n",
            "5 11122720\n",
            "5 11122720\n"
          ]
        }
      ]
    },
    {
      "cell_type": "markdown",
      "source": [
        "# New Section"
      ],
      "metadata": {
        "id": "pYGZs_l8rQNu"
      }
    },
    {
      "cell_type": "code",
      "source": [
        "# 7. Write a program that asks the user to enter a number. You should print out a message to the user, either “That number is divisible by either 3 or 5”, or “That number is not divisible by either 3 or 5”. Be sure to consider the data type of the input you are taking in from the user. Use a single if/else block to solve this problem.\n",
        "\n",
        "num = int(input(\"Enter a Number : \"))\n",
        "\n",
        "if num % 3 == 0 or num % 5 == 0:\n",
        "  print(f\"{num} is divisible by 3 or 5\")\n",
        "else:\n",
        "  print(f\"{num} is not divisible by 3 or 5\")\n"
      ],
      "metadata": {
        "colab": {
          "base_uri": "https://localhost:8080/"
        },
        "id": "hsV_Mp46Gt-8",
        "outputId": "f05675eb-c224-4581-bffb-046c2e98e3eb",
        "tags": []
      },
      "execution_count": 1,
      "outputs": [
        {
          "output_type": "stream",
          "name": "stdout",
          "text": "5 is divisible by 3 or 5\n"
        }
      ]
    },
    {
      "cell_type": "code",
      "source": [
        "# 8. Take user input for length and width. Then calculate the area of rectangle. Also print as per length and width whether its a square of rectangle.\n",
        "\n",
        "length = int(input(\"Enter Length : \"))\n",
        "width = int(input(\"Enter Width : \"))\n",
        "\n",
        "if length == width:\n",
        "  print(\"Area of Square is \", length * width)\n",
        "else:\n",
        "  print(\"Area of Rectangle is \", length * width)"
      ],
      "metadata": {
        "colab": {
          "base_uri": "https://localhost:8080/"
        },
        "id": "Qmlm4zmsG0ql",
        "outputId": "7183f20b-c7d4-46ac-998a-cc72693903ed",
        "tags": []
      },
      "execution_count": 3,
      "outputs": [
        {
          "output_type": "stream",
          "name": "stdout",
          "text": "Area of Rectangle is  42\n"
        }
      ]
    },
    {
      "cell_type": "code",
      "source": [
        "# 9. Take two variable radius_1 and radius_2 and calculate the area of circle_1 and circle_2. Also print which circle has large area. If area is equal then print area is equal.\n",
        "\n",
        "radius_1 = int(input(\"Enter Radius for Circle 1 : \"))\n",
        "radius_2 = int(input(\"Enter Radius for Circle 2 : \"))\n",
        "\n",
        "Area_Circle_1 = 3.14 * (radius_1 ** 2)\n",
        "Area_Circle_2 = 3.14 * (radius_2 ** 2)\n",
        "\n",
        "if Area_Circle_1 > Area_Circle_2:\n",
        "  print(f\"Area of Circle 1 ({Area_Circle_1}) is bigger than Circle 2 ({Area_Circle_2})\")\n",
        "elif Area_Circle_1 < Area_Circle_2:\n",
        "  print(f\"Area of Circle 2 ({Area_Circle_2}) is bigger than Circle 1 ({Area_Circle_1})\")\n",
        "else:\n",
        "  print(f\"Area of Circle 1 ({Area_Circle_1}) is equal to Circle 2 ({Area_Circle_2})\")\n",
        "\n"
      ],
      "metadata": {
        "colab": {
          "base_uri": "https://localhost:8080/"
        },
        "id": "cA9r66tUG6VE",
        "outputId": "fa510f99-3961-4abd-c667-9cabca1082f7"
      },
      "execution_count": 19,
      "outputs": [
        {
          "output_type": "stream",
          "name": "stdout",
          "text": [
            "Enter Radius for Circle 1 : 4\n",
            "Enter Radius for Circle 2 : 5\n",
            "Area of Circle 2 (78.5) is bigger than Circle 1 (50.24)\n"
          ]
        }
      ]
    },
    {
      "cell_type": "code",
      "source": [
        "# 10. Check whether a year is leap year or not. Use nested if...else to solve this problem. \n",
        "# A leap year is exactly divisible by 4 except for century years (years ending with 00). The century year is a leap year only if it is perfectly divisible by 400.\n",
        "\n",
        "year = int(input(\"Enter a year: \"))\n",
        "\n",
        "# divided by 100 means century year (ending with 00) . century year divided by 400 is leap year\n",
        "# not divided by 100 means not a century year . year divided by 4 is a leap year\n",
        "\n",
        "if ((year % 400 == 0) and (year % 100 == 0)) or ((year % 4 ==0) and (year % 100 != 0)):\n",
        "    print(f\"{year} is a leap year\")\n",
        "else:\n",
        "    print(f\"{year} is not a leap year\")"
      ],
      "metadata": {
        "colab": {
          "base_uri": "https://localhost:8080/"
        },
        "id": "jm611omtG63J",
        "outputId": "9d3f0a42-5c93-4231-c862-a3f1afed5c68"
      },
      "execution_count": 21,
      "outputs": [
        {
          "output_type": "stream",
          "name": "stdout",
          "text": [
            "Enter a year: 2024\n",
            "2024 is a leap year\n"
          ]
        }
      ]
    }
  ],
  "metadata": {
    "colab": {
      "provenance": [],
      "collapsed_sections": [],
      "toc_visible": true
    },
    "kernelspec": {
      "name": "python3",
      "display_name": "Python 3 (ipykernel)"
    },
    "language_info": {
      "name": "python",
      "version": "3.9.12-final"
    }
  },
  "nbformat": 4,
  "nbformat_minor": 0
}