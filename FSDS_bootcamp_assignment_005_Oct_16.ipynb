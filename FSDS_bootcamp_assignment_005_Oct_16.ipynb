{
  "nbformat": 4,
  "nbformat_minor": 0,
  "metadata": {
    "colab": {
      "provenance": [],
      "collapsed_sections": []
    },
    "kernelspec": {
      "name": "python3",
      "display_name": "Python 3"
    },
    "language_info": {
      "name": "python"
    }
  },
  "cells": [
    {
      "cell_type": "markdown",
      "source": [
        "# ASSIGNMENTS \n",
        "## Send it before 0000 hrs IST or 12 AM Friday\n",
        "\n",
        "## NOTE: Evaluation will be done before next class.\n",
        "\n",
        "## HOW TO SUBMIT: -\n",
        "Download this notebook, Solve it and upload in the google form given in the mail."
      ],
      "metadata": {
        "id": "dkGbTD94s6CD"
      }
    },
    {
      "cell_type": "markdown",
      "source": [
        "# List, Tuple and Sets"
      ],
      "metadata": {
        "id": "n3FuI-mutNl6"
      }
    },
    {
      "cell_type": "markdown",
      "source": [
        "#### 1. On amazon website we have the following available items - \n",
        "\n",
        "```python\n",
        "amazon_website = [(\"watch\", 5000), (\"phone\", 10000), (\"laptop\", 50000), (\"shirt\", 1000)]\n",
        "```\n",
        "Take the user input N no. of times and find out the total cost to be paid?\n",
        "\n",
        "OR\n",
        "\n",
        "You can ask the user quntity or the count of item?\n",
        "\n",
        "if the item is not present in the amazon website then print that item as out of stock and do add it total\n",
        "\n",
        "\n",
        "HINT: while, for loop.. indexing"
      ],
      "metadata": {
        "id": "hZcGNSR2y9zW"
      }
    },
    {
      "cell_type": "code",
      "source": [
        "amazon_website1 = [(\"watch\", 5000), (\"phone\", 10000), (\"laptop\", 50000), (\"shirt\", 1000)]\n",
        "\n",
        "temp = out = [item for t in amazon_website1 for item in t]\n",
        "\n",
        "quantity = int(input(\"Enter Quantity \"))\n",
        "i=0\n",
        "total=0\n",
        "#print(quantity)\n",
        "while(i < quantity):\n",
        "  my_choice = input(\"What you want to purchase? : \")\n",
        "  if temp.count(my_choice) > 0:\n",
        "    total = total + temp[temp.index(my_choice)+1]\n",
        "    print(f\"{my_choice} is added to cart\")\n",
        "  else:\n",
        "    print(f\"{my_choice} is out of stock\")\n",
        "  i=i+1\n",
        "\n",
        "print(f\"Total value of the cart is {total}\")\n"
      ],
      "metadata": {
        "colab": {
          "base_uri": "https://localhost:8080/"
        },
        "id": "4QSYN6-VCoGr",
        "outputId": "a303a637-8416-4528-b765-9b73289d6f8f"
      },
      "execution_count": 25,
      "outputs": [
        {
          "output_type": "stream",
          "name": "stdout",
          "text": [
            "Enter Quantity 3\n",
            "What you want to purchase? : shirt\n",
            "shirt is added to cart\n",
            "What you want to purchase? : mobile\n",
            "mobile is out of stock\n",
            "What you want to purchase? : phone\n",
            "phone is added to cart\n",
            "Total value of the cart is 11000\n"
          ]
        }
      ]
    },
    {
      "cell_type": "code",
      "source": [
        "amazon_website1 = [(\"watch\", 5000), (\"phone\", 10000), (\"laptop\", 50000), (\"shirt\", 1000)]\n",
        "\n",
        "\n",
        "out = [item for t in amazon_website1 for item in t]\n",
        "print(out)\n",
        "\n",
        "oc = out.count(\"laptop\")\n",
        "\n",
        "\n",
        "print(oc)\n",
        "\n",
        "print(out.index(\"laptop\")+1)\n",
        "\n",
        "print(out[5])"
      ],
      "metadata": {
        "colab": {
          "base_uri": "https://localhost:8080/"
        },
        "id": "BgCoS8NgDl61",
        "outputId": "a062a861-3a6e-4ed6-a944-fe4e727a34b0"
      },
      "execution_count": 19,
      "outputs": [
        {
          "output_type": "stream",
          "name": "stdout",
          "text": [
            "['watch', 5000, 'phone', 10000, 'laptop', 50000, 'shirt', 1000]\n",
            "1\n",
            "5\n",
            "50000\n"
          ]
        }
      ]
    },
    {
      "cell_type": "markdown",
      "source": [
        "#### 2. What will be the output of the following code snippet?\n",
        "\n",
        "```\n",
        "arr = [1, 2, 3, 4, 5, 6]\n",
        "for i in range(1, 6):\n",
        "    arr[i - 1] = arr[i]\n",
        "for i in range(0, 6): \n",
        "    print(arr[i], end = \" \")\n",
        "```"
      ],
      "metadata": {
        "id": "FQrKC2gzzsUm"
      }
    },
    {
      "cell_type": "code",
      "source": [
        "arr = [1, 2, 3, 4, 5, 6]\n",
        "for i in range(1, 6):\n",
        "    print(i)\n",
        "    arr[i - 1] = arr[i]\n",
        "print(arr)\n",
        "for i in range(0, 6): \n",
        "    print(arr[i], end = \" \")"
      ],
      "metadata": {
        "colab": {
          "base_uri": "https://localhost:8080/"
        },
        "id": "BeXsKdMjPncy",
        "outputId": "83fc6622-b623-43fa-ee58-5ed57c313b67"
      },
      "execution_count": null,
      "outputs": [
        {
          "output_type": "stream",
          "name": "stdout",
          "text": [
            "1\n",
            "2\n",
            "3\n",
            "4\n",
            "5\n",
            "[2, 3, 4, 5, 6, 6]\n",
            "2 3 4 5 6 6 "
          ]
        }
      ]
    },
    {
      "cell_type": "markdown",
      "source": [
        "#### 3. Write a Python program to find the repeated items of a tuple."
      ],
      "metadata": {
        "id": "nL_DZJFS0ZZF"
      }
    },
    {
      "cell_type": "code",
      "source": [
        "#Approach 1\n",
        "ele=(1,1,2,2,3,5,5,4,5,6,7,7,7,5,5,5)\n",
        "temp=set()\n",
        "for i in ele:  \n",
        "  if ele.count(i)>1:\n",
        "    temp.add(i)\n",
        "\n",
        "#print(temp)\n",
        "for j in temp:\n",
        "  print(f\"Element {j} occors {ele.count(j)} times\")\n",
        "\n",
        "  "
      ],
      "metadata": {
        "colab": {
          "base_uri": "https://localhost:8080/"
        },
        "id": "P2U8rUJ3TGzO",
        "outputId": "c675bb71-fbfe-466a-b995-7be16bb03c42"
      },
      "execution_count": null,
      "outputs": [
        {
          "output_type": "stream",
          "name": "stdout",
          "text": [
            "Element 1 occors 2 times\n",
            "Element 2 occors 2 times\n",
            "Element 5 occors 6 times\n",
            "Element 7 occors 3 times\n"
          ]
        }
      ]
    },
    {
      "cell_type": "code",
      "source": [
        "#Approach 2\n",
        "ele=(1,1,2,2,3,5,5,4,5,6,7,7,7,5,5,5)\n",
        "print(ele)\n",
        "newlist=[(\"Element \" + str(i) + \" occurs \" + str(ele.count(i)) + \" times\") for i in set(ele) if ele.count(i)>1]\n",
        "newlist\n"
      ],
      "metadata": {
        "colab": {
          "base_uri": "https://localhost:8080/"
        },
        "id": "sT2FRwNOeVbv",
        "outputId": "98bc0f88-f981-4778-871f-b4651362f0c0"
      },
      "execution_count": 3,
      "outputs": [
        {
          "output_type": "stream",
          "name": "stdout",
          "text": [
            "(1, 1, 2, 2, 3, 5, 5, 4, 5, 6, 7, 7, 7, 5, 5, 5)\n"
          ]
        },
        {
          "output_type": "execute_result",
          "data": {
            "text/plain": [
              "['Element 1 occurs 2 times',\n",
              " 'Element 2 occurs 2 times',\n",
              " 'Element 5 occurs 6 times',\n",
              " 'Element 7 occurs 3 times']"
            ]
          },
          "metadata": {},
          "execution_count": 3
        }
      ]
    },
    {
      "cell_type": "markdown",
      "source": [
        "### 4. Replace last value of tuples in a list with 500. Try using list comprehension\n",
        "\n",
        "Example -: \n",
        "```\n",
        "Input -:\n",
        "\n",
        "[(10, 20, 40), (40, 50, 60), (70, 80, 90)]\n",
        "\n",
        "Output -:\n",
        "[(10, 20, 500), (40, 50, 500), (70, 80, 500)]\n",
        "\n",
        "\n",
        "```\n"
      ],
      "metadata": {
        "id": "ne8WpLZZ1GSm"
      }
    },
    {
      "cell_type": "code",
      "source": [],
      "metadata": {
        "id": "YpvH9Di21z-O"
      },
      "execution_count": null,
      "outputs": []
    },
    {
      "cell_type": "code",
      "source": [
        "list1=[(10, 20, 40), (40, 50, 60), (70, 80, 90)]\n",
        "\n",
        "\n",
        "#newlist1=[(i[0:2],500) for i in list1]\n",
        "newlist1=[(i[0],i[1],500) for i in list1]\n",
        "\n",
        "\n",
        "print(newlist1)\n",
        "\n",
        "\n"
      ],
      "metadata": {
        "id": "mbx4uz9Y2bHk",
        "colab": {
          "base_uri": "https://localhost:8080/"
        },
        "outputId": "0211ba99-58c5-4e96-e6c7-638e3ce19bfd"
      },
      "execution_count": 17,
      "outputs": [
        {
          "output_type": "stream",
          "name": "stdout",
          "text": [
            "[(10, 20, 500), (40, 50, 500), (70, 80, 500)]\n"
          ]
        }
      ]
    }
  ]
}