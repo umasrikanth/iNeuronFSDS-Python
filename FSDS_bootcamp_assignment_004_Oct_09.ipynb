{
  "nbformat": 4,
  "nbformat_minor": 0,
  "metadata": {
    "colab": {
      "provenance": [],
      "collapsed_sections": [],
      "toc_visible": true
    },
    "kernelspec": {
      "name": "python3",
      "display_name": "Python 3"
    },
    "language_info": {
      "name": "python"
    }
  },
  "cells": [
    {
      "cell_type": "markdown",
      "source": [
        "# ASSIGNMENTS \n",
        "## Send it before 0000 hrs IST or 12 AM Wednesday\n",
        "\n",
        "## NOTE: Evaluation will be done before next class.\n",
        "\n",
        "## HOW TO SUBMIT: -\n",
        "Download this notebook, Solve it and upload in the google form given in the mail."
      ],
      "metadata": {
        "id": "dkGbTD94s6CD"
      }
    },
    {
      "cell_type": "markdown",
      "source": [
        "## control flow and conditional statements"
      ],
      "metadata": {
        "id": "n3FuI-mutNl6"
      }
    },
    {
      "cell_type": "markdown",
      "source": [
        "Q1. Find the largest number from the given list, use for loop.\n",
        "\n",
        "```\n",
        "numbers = [12, 75, 150, 180, 145, 525, 50]\n",
        "```"
      ],
      "metadata": {
        "id": "NCW2epdyuJ-a"
      }
    },
    {
      "cell_type": "code",
      "source": [
        "numbers = [12, 75, 150, 180, 145, 525, 50]\n",
        "\n",
        "max = 0\n",
        "for i in numbers:\n",
        "  #print(i,max)\n",
        "  if i > max:\n",
        "    max = i\n",
        "\n",
        "print(\"Largest Number is\",max)"
      ],
      "metadata": {
        "colab": {
          "base_uri": "https://localhost:8080/"
        },
        "id": "5Dt_q3lgEz40",
        "outputId": "b51ba466-d6c7-4ea2-8601-d6612a91a37d"
      },
      "execution_count": 14,
      "outputs": [
        {
          "output_type": "stream",
          "name": "stdout",
          "text": [
            "12 0\n",
            "75 12\n",
            "150 75\n",
            "180 150\n",
            "145 180\n",
            "525 180\n",
            "50 525\n",
            "Largest Number is 525\n"
          ]
        }
      ]
    },
    {
      "cell_type": "code",
      "source": [
        "# 2nd approach\n",
        "\n",
        "numbers = [12, 75, 150, 180, 145, 525, 50]\n",
        "\n",
        "numbers.sort()\n",
        "numbers[-1]"
      ],
      "metadata": {
        "colab": {
          "base_uri": "https://localhost:8080/"
        },
        "id": "u0pdBbE7rcFh",
        "outputId": "7f474cb0-0426-4240-9926-43828cdd6119"
      },
      "execution_count": 2,
      "outputs": [
        {
          "output_type": "execute_result",
          "data": {
            "text/plain": [
              "525"
            ]
          },
          "metadata": {},
          "execution_count": 2
        }
      ]
    },
    {
      "cell_type": "code",
      "source": [
        "# 3rd approach\n",
        "\n",
        "numbers = [12, 75, 150, 180, 145, 525, 50]\n",
        "\n",
        "print(\"Largest Number is:\", max(numbers))"
      ],
      "metadata": {
        "colab": {
          "base_uri": "https://localhost:8080/"
        },
        "id": "HXHi9XuMruF_",
        "outputId": "085465a1-e3b0-42e8-cb6d-5f2ac45457ec"
      },
      "execution_count": 3,
      "outputs": [
        {
          "output_type": "stream",
          "name": "stdout",
          "text": [
            "Largest Number is: 525\n"
          ]
        }
      ]
    },
    {
      "cell_type": "markdown",
      "source": [
        "Q2. Print all the even number between (1, 12)."
      ],
      "metadata": {
        "id": "Qsg0i1fTwEQj"
      }
    },
    {
      "cell_type": "code",
      "source": [
        "for i in range(12):\n",
        "  if i == 0:\n",
        "    continue\n",
        "  if i % 2 == 0:\n",
        "    print(i)"
      ],
      "metadata": {
        "colab": {
          "base_uri": "https://localhost:8080/"
        },
        "id": "HLAYABYTDY0p",
        "outputId": "3f1031dc-a623-476e-d057-0ba2856dabb5"
      },
      "execution_count": 11,
      "outputs": [
        {
          "output_type": "stream",
          "name": "stdout",
          "text": [
            "2\n",
            "4\n",
            "6\n",
            "8\n",
            "10\n"
          ]
        }
      ]
    },
    {
      "cell_type": "markdown",
      "source": [
        "Q3. Calculate the sum of all numbers from 1 to a given number\n",
        "    \n",
        "    Expected Output:\n",
        "\n",
        "    Enter number 10\n",
        "    \n",
        "    Sum is:  55\n"
      ],
      "metadata": {
        "id": "WG2QcDDhwi4a"
      }
    },
    {
      "cell_type": "code",
      "source": [
        "number = int(input(\"Enter a Number : \"))\n",
        "sum = 0\n",
        "\n",
        "for i in range(number+1):\n",
        "  sum = sum + i\n",
        "  #print(i)\n",
        "\n",
        "print(f\"Sum =\",sum)\n"
      ],
      "metadata": {
        "colab": {
          "base_uri": "https://localhost:8080/"
        },
        "id": "XTnj-Y0TCBqa",
        "outputId": "7e7842b2-dab7-48cd-e701-ce5a8f1b34b0"
      },
      "execution_count": 9,
      "outputs": [
        {
          "output_type": "stream",
          "name": "stdout",
          "text": [
            "Enter a Number : 10\n",
            "Sum = 55\n"
          ]
        }
      ]
    },
    {
      "cell_type": "markdown",
      "source": [
        "Q4. Write a program to display only those numbers from a list that satisfy the following conditions\n",
        "\n",
        "- The number must be divisible by five\n",
        "\n",
        "- If the number is greater than 150, then skip it and move to the next number\n",
        "\n",
        "- If the number is greater than 500, then stop the loop"
      ],
      "metadata": {
        "id": "mc7lLUm5f4Cq"
      }
    },
    {
      "cell_type": "code",
      "source": [
        "# Given:\n",
        "\n",
        "numbers = [12, 75, 150, 180, 145, 525, 50]\n",
        "\n",
        "for i in numbers:\n",
        "  #print(i)\n",
        "  if i > 150 and i<=500:\n",
        "    #print(i)\n",
        "    continue\n",
        "  elif i > 500:\n",
        "    break\n",
        "  else:\n",
        "    if i%5 ==0:\n",
        "      print(i)"
      ],
      "metadata": {
        "id": "P3Ct2ocKf6Hy",
        "colab": {
          "base_uri": "https://localhost:8080/"
        },
        "outputId": "b5ecfa7b-b6b8-4059-e836-f408feb5e7a1"
      },
      "execution_count": 17,
      "outputs": [
        {
          "output_type": "stream",
          "name": "stdout",
          "text": [
            "75\n",
            "150\n",
            "145\n"
          ]
        }
      ]
    },
    {
      "cell_type": "markdown",
      "source": [
        "Q5. Print the given list in reverse order.\n",
        "\n",
        "```\n",
        "list1 = [10, 20, 30, 40, 50]\n",
        "```"
      ],
      "metadata": {
        "id": "rrxWvy7nMnAs"
      }
    },
    {
      "cell_type": "code",
      "source": [
        "list1 = [10, 20, 30, 40, 50]\n",
        "\n",
        "list1[::-1]"
      ],
      "metadata": {
        "colab": {
          "base_uri": "https://localhost:8080/"
        },
        "id": "oJIcvt3D_nXa",
        "outputId": "3b286ee0-8a3d-420a-ac59-673f7339a0c1"
      },
      "execution_count": 1,
      "outputs": [
        {
          "output_type": "execute_result",
          "data": {
            "text/plain": [
              "[50, 40, 30, 20, 10]"
            ]
          },
          "metadata": {},
          "execution_count": 1
        }
      ]
    },
    {
      "cell_type": "code",
      "source": [
        "# 2nd approach\n",
        "\n",
        "list1 = [10, 20, 30, 40, 50]\n",
        "list1.reverse()\n",
        "print(\"Reversed List \", list1)\n",
        " \n"
      ],
      "metadata": {
        "id": "z-GDgPn3Nr0y",
        "colab": {
          "base_uri": "https://localhost:8080/"
        },
        "outputId": "67d497d2-a517-42f4-fb85-e10d54f4bf77"
      },
      "execution_count": 4,
      "outputs": [
        {
          "output_type": "stream",
          "name": "stdout",
          "text": [
            "Using reverse()  [50, 40, 30, 20, 10]\n"
          ]
        }
      ]
    },
    {
      "cell_type": "code",
      "source": [
        "# 3rd approach\n",
        "\n",
        "list1 = [10, 20, 30, 40, 50]\n",
        "print(\"Reversed List \", list(reversed(list1)))"
      ],
      "metadata": {
        "colab": {
          "base_uri": "https://localhost:8080/"
        },
        "id": "sIpAN4jU9dg9",
        "outputId": "74b91b21-5a94-442a-8d07-ebdc6f37bbb6"
      },
      "execution_count": 6,
      "outputs": [
        {
          "output_type": "stream",
          "name": "stdout",
          "text": [
            "Reversed List  [50, 40, 30, 20, 10]\n"
          ]
        }
      ]
    }
  ]
}